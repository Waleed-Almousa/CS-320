{
 "cells": [
  {
   "cell_type": "code",
   "execution_count": 17,
   "id": "91bc359a-0364-40c4-8c03-1aa0a3e6cb17",
   "metadata": {},
   "outputs": [],
   "source": [
    "import pandas as pd\n",
    "import re\n",
    "import geopandas\n",
    "import netaddr\n",
    "from bisect import bisect\n"
   ]
  },
  {
   "cell_type": "code",
   "execution_count": 18,
   "id": "b23f5cbd-f176-46a6-8bd2-2887d95496cb",
   "metadata": {},
   "outputs": [
    {
     "data": {
      "text/html": [
       "<div>\n",
       "<style scoped>\n",
       "    .dataframe tbody tr th:only-of-type {\n",
       "        vertical-align: middle;\n",
       "    }\n",
       "\n",
       "    .dataframe tbody tr th {\n",
       "        vertical-align: top;\n",
       "    }\n",
       "\n",
       "    .dataframe thead th {\n",
       "        text-align: right;\n",
       "    }\n",
       "</style>\n",
       "<table border=\"1\" class=\"dataframe\">\n",
       "  <thead>\n",
       "    <tr style=\"text-align: right;\">\n",
       "      <th></th>\n",
       "      <th>low</th>\n",
       "      <th>high</th>\n",
       "      <th>code</th>\n",
       "      <th>region</th>\n",
       "    </tr>\n",
       "  </thead>\n",
       "  <tbody>\n",
       "    <tr>\n",
       "      <th>0</th>\n",
       "      <td>0</td>\n",
       "      <td>16777215</td>\n",
       "      <td>-</td>\n",
       "      <td>-</td>\n",
       "    </tr>\n",
       "    <tr>\n",
       "      <th>1</th>\n",
       "      <td>16777216</td>\n",
       "      <td>16777471</td>\n",
       "      <td>US</td>\n",
       "      <td>United States of America</td>\n",
       "    </tr>\n",
       "    <tr>\n",
       "      <th>2</th>\n",
       "      <td>16777472</td>\n",
       "      <td>16778239</td>\n",
       "      <td>CN</td>\n",
       "      <td>China</td>\n",
       "    </tr>\n",
       "    <tr>\n",
       "      <th>3</th>\n",
       "      <td>16778240</td>\n",
       "      <td>16779263</td>\n",
       "      <td>AU</td>\n",
       "      <td>Australia</td>\n",
       "    </tr>\n",
       "    <tr>\n",
       "      <th>4</th>\n",
       "      <td>16779264</td>\n",
       "      <td>16781311</td>\n",
       "      <td>CN</td>\n",
       "      <td>China</td>\n",
       "    </tr>\n",
       "    <tr>\n",
       "      <th>...</th>\n",
       "      <td>...</td>\n",
       "      <td>...</td>\n",
       "      <td>...</td>\n",
       "      <td>...</td>\n",
       "    </tr>\n",
       "    <tr>\n",
       "      <th>174967</th>\n",
       "      <td>3758094336</td>\n",
       "      <td>3758095359</td>\n",
       "      <td>HK</td>\n",
       "      <td>Hong Kong</td>\n",
       "    </tr>\n",
       "    <tr>\n",
       "      <th>174968</th>\n",
       "      <td>3758095360</td>\n",
       "      <td>3758095871</td>\n",
       "      <td>CN</td>\n",
       "      <td>China</td>\n",
       "    </tr>\n",
       "    <tr>\n",
       "      <th>174969</th>\n",
       "      <td>3758095872</td>\n",
       "      <td>3758096127</td>\n",
       "      <td>SG</td>\n",
       "      <td>Singapore</td>\n",
       "    </tr>\n",
       "    <tr>\n",
       "      <th>174970</th>\n",
       "      <td>3758096128</td>\n",
       "      <td>3758096383</td>\n",
       "      <td>AU</td>\n",
       "      <td>Australia</td>\n",
       "    </tr>\n",
       "    <tr>\n",
       "      <th>174971</th>\n",
       "      <td>3758096384</td>\n",
       "      <td>4294967295</td>\n",
       "      <td>-</td>\n",
       "      <td>-</td>\n",
       "    </tr>\n",
       "  </tbody>\n",
       "</table>\n",
       "<p>174972 rows × 4 columns</p>\n",
       "</div>"
      ],
      "text/plain": [
       "               low        high code                    region\n",
       "0                0    16777215    -                         -\n",
       "1         16777216    16777471   US  United States of America\n",
       "2         16777472    16778239   CN                     China\n",
       "3         16778240    16779263   AU                 Australia\n",
       "4         16779264    16781311   CN                     China\n",
       "...            ...         ...  ...                       ...\n",
       "174967  3758094336  3758095359   HK                 Hong Kong\n",
       "174968  3758095360  3758095871   CN                     China\n",
       "174969  3758095872  3758096127   SG                 Singapore\n",
       "174970  3758096128  3758096383   AU                 Australia\n",
       "174971  3758096384  4294967295    -                         -\n",
       "\n",
       "[174972 rows x 4 columns]"
      ]
     },
     "execution_count": 18,
     "metadata": {},
     "output_type": "execute_result"
    }
   ],
   "source": [
    "ips = pd.read_csv(\"ip2location.csv\")\n",
    "ips"
   ]
  },
  {
   "cell_type": "code",
   "execution_count": 19,
   "id": "73ee6399-cecf-4814-9860-3627f1ef1c7f",
   "metadata": {},
   "outputs": [
    {
     "data": {
      "text/plain": [
       "4"
      ]
     },
     "execution_count": 19,
     "metadata": {},
     "output_type": "execute_result"
    }
   ],
   "source": [
    "L = [1, 2, 100, 222, 900]\n",
    "from bisect import bisect\n",
    "idx = bisect(L, 225)\n",
    "idx"
   ]
  },
  {
   "cell_type": "code",
   "execution_count": 20,
   "id": "4423d6ee-e811-4670-9545-1dd8f4f71e23",
   "metadata": {},
   "outputs": [
    {
     "data": {
      "text/plain": [
       "1694564608"
      ]
     },
     "execution_count": 20,
     "metadata": {},
     "output_type": "execute_result"
    }
   ],
   "source": [
    "myip=int(netaddr.IPAddress(\"101.1.1.000\"))\n",
    "myip"
   ]
  },
  {
   "cell_type": "code",
   "execution_count": 21,
   "id": "f3af6d7d-5af8-4819-84a1-fcba9b896553",
   "metadata": {},
   "outputs": [
    {
     "data": {
      "text/plain": [
       "'China'"
      ]
     },
     "execution_count": 21,
     "metadata": {},
     "output_type": "execute_result"
    }
   ],
   "source": [
    "idx=bisect(ips[\"low\"], myip)-1\n",
    "idx\n",
    "ips.iloc[idx][\"region\"]"
   ]
  },
  {
   "cell_type": "code",
   "execution_count": 22,
   "id": "8ae14310-6169-44d2-acb1-24e17186e839",
   "metadata": {},
   "outputs": [
    {
     "data": {
      "text/plain": [
       "0                  0\n",
       "1           16777216\n",
       "2           16777472\n",
       "3           16778240\n",
       "4           16779264\n",
       "             ...    \n",
       "174967    3758094336\n",
       "174968    3758095360\n",
       "174969    3758095872\n",
       "174970    3758096128\n",
       "174971    3758096384\n",
       "Name: low, Length: 174972, dtype: int64"
      ]
     },
     "execution_count": 22,
     "metadata": {},
     "output_type": "execute_result"
    }
   ],
   "source": [
    "ips[\"low\"]"
   ]
  },
  {
   "cell_type": "code",
   "execution_count": 23,
   "id": "06e98472-7aba-41de-8452-ca55727fb32e",
   "metadata": {},
   "outputs": [
    {
     "ename": "NameError",
     "evalue": "name 'ipaddr' is not defined",
     "output_type": "error",
     "traceback": [
      "\u001b[0;31m---------------------------------------------------------------------------\u001b[0m",
      "\u001b[0;31mNameError\u001b[0m                                 Traceback (most recent call last)",
      "Cell \u001b[0;32mIn[23], line 1\u001b[0m\n\u001b[0;32m----> 1\u001b[0m re\u001b[38;5;241m.\u001b[39msub(\u001b[38;5;124mr\u001b[39m\u001b[38;5;124m\"\u001b[39m\u001b[38;5;124m[A-Z]|[a-z]\u001b[39m\u001b[38;5;124m\"\u001b[39m, \u001b[38;5;124m\"\u001b[39m\u001b[38;5;124m0\u001b[39m\u001b[38;5;124m\"\u001b[39m, \u001b[43mipaddr\u001b[49m)\n",
      "\u001b[0;31mNameError\u001b[0m: name 'ipaddr' is not defined"
     ]
    }
   ],
   "source": [
    "re.sub(r\"[A-Z]|[a-z]\", \"0\", ipaddr)"
   ]
  },
  {
   "cell_type": "code",
   "execution_count": null,
   "id": "8c2b56ed-6a85-4698-a181-93ad04200e3c",
   "metadata": {},
   "outputs": [],
   "source": [
    "def lookup_region(ip):\n",
    "    fixedip=re.sub(r\"[A-Z]|[a-z]\", \"0\", ip)\n",
    "    myip=int(netaddr.IPAddress(fixedip))\n",
    "    idx= bisect(ips[\"low\"], myip)-1\n",
    "    region= ips.iloc[idx][\"region\"]\n",
    "    return region\n",
    "    "
   ]
  },
  {
   "cell_type": "code",
   "execution_count": 8,
   "id": "6ab75c46-399a-46f2-b563-82cfc8f05c6c",
   "metadata": {},
   "outputs": [
    {
     "ename": "NameError",
     "evalue": "name 'lookup_region' is not defined",
     "output_type": "error",
     "traceback": [
      "\u001b[0;31m---------------------------------------------------------------------------\u001b[0m",
      "\u001b[0;31mNameError\u001b[0m                                 Traceback (most recent call last)",
      "Cell \u001b[0;32mIn[8], line 1\u001b[0m\n\u001b[0;32m----> 1\u001b[0m \u001b[43mlookup_region\u001b[49m(\u001b[38;5;124m\"\u001b[39m\u001b[38;5;124m101.1.1.abc\u001b[39m\u001b[38;5;124m\"\u001b[39m)\n",
      "\u001b[0;31mNameError\u001b[0m: name 'lookup_region' is not defined"
     ]
    }
   ],
   "source": [
    "lookup_region(\"101.1.1.abc\")"
   ]
  },
  {
   "cell_type": "code",
   "execution_count": 9,
   "id": "cf0abcfa-9478-431f-810e-5b3114246b03",
   "metadata": {},
   "outputs": [],
   "source": [
    "html = \"\"\"<!DOCTYPE HTML PUBLIC \"-//W3C//DTD HTML 4.01 Transitional//EN\" \"http://www.w3.org/TR/html4/loose.dtd\">\n",
    "<html xmlns=\"http://www.w3.org/1999/xhtml\">\n",
    "<head>\n",
    "<meta http-equiv=\"Content-Type\" content=\"text/html; charset=utf-8\" />\n",
    "<meta http-equiv=\"Last-Modified\" content=\"Fri, 12 Feb 2016 00:05:37 GMT\" />\n",
    "<title>EDGAR Filing Documents for 0001050470-16-000051</title>\n",
    "<link rel=\"stylesheet\" type=\"text/css\" href=\"/include/interactive.css\" />\n",
    "</head>\n",
    "<body style=\"margin: 0\">\n",
    "<!-- SEC Web Analytics - For information please visit: https://www.sec.gov/privacy.htm#collectedinfo -->\n",
    "<noscript><iframe src=\"//www.googletagmanager.com/ns.html?id=GTM-TD3BKV\"\n",
    "height=\"0\" width=\"0\" style=\"display:none;visibility:hidden\"></iframe></noscript>\n",
    "<script>(function(w,d,s,l,i){w[l]=w[l]||[];w[l].push({'gtm.start':\n",
    "new Date().getTime(),event:'gtm.js'});var f=d.getElementsByTagName(s)[0],\n",
    "j=d.createElement(s),dl=l!='dataLayer'?'&l='+l:'';j.async=true;j.src=\n",
    "'//www.googletagmanager.com/gtm.js?id='+i+dl;f.parentNode.insertBefore(j,f);\n",
    "})(window,document,'script','dataLayer','GTM-TD3BKV');</script>\n",
    "<!-- End SEC Web Analytics -->\n",
    "<noscript><div style=\"color:red; font-weight:bold; text-align:center;\">This page uses Javascript. Your browser either doesn't support Javascript or you have it turned off. To see this page as it is meant to appear please use a Javascript enabled browser.</div></noscript>\n",
    "<!-- BEGIN BANNER -->\n",
    "<div id=\"headerTop\">\n",
    "   <div id=\"Nav\"><a href=\"/index.htm\">Home</a> | <a href=\"/cgi-bin/browse-edgar?action=getcurrent\">Latest Filings</a> | <a href=\"javascript:history.back()\">Previous Page</a></div>\n",
    "   <div id=\"seal\"><a href=\"/index.htm\"><img src=\"/images/sealTop.gif\" alt=\"SEC Seal\" border=\"0\" /></a></div>\n",
    "   <div id=\"secWordGraphic\"><img src=\"/images/bannerTitle.gif\" alt=\"SEC Banner\" /></div>\n",
    "</div>\n",
    "<div id=\"headerBottom\">\n",
    "   <div id=\"searchHome\"><a href=\"/edgar/searchedgar/webusers.htm\">Search the Next-Generation EDGAR System</a></div>\n",
    "   <div id=\"PageTitle\">Filing Detail</div>\n",
    "</div>\n",
    "<!-- END BANNER -->\n",
    "\n",
    "\n",
    "<!-- BEGIN BREADCRUMBS -->\n",
    "<div id=\"breadCrumbs\">\n",
    "   <ul>\n",
    "      <li><a href=\"/index.htm\">SEC Home</a> &#187;</li>\n",
    "      <li><a href=\"/edgar/searchedgar/webusers.htm\">Search the Next-Generation EDGAR System</a> &#187;</li>\n",
    "      <li><a href=\"/edgar/searchedgar/companysearch.html\">Company Search</a> &#187;</li>\n",
    "      <li class=\"last\">Current Page</li>\n",
    "   </ul>\n",
    "</div>\n",
    "<!-- END BREADCRUMBS -->\n",
    "\n",
    "<div id=\"contentDiv\">\n",
    "<!-- START FILING DIV -->\n",
    "<div id=\"formDiv\">\n",
    "   <div id=\"formHeader\">\n",
    "      <div id=\"formName\">\n",
    "         <strong>Form SC 13G</strong> - Statement of acquisition of beneficial ownership by individuals: \n",
    "      </div>\n",
    "      <div id=\"secNum\">\n",
    "         <strong><acronym title=\"Securities and Exchange Commission\">SEC</acronym> Accession <acronym title=\"Number\">No.</acronym></strong> 0001050470-16-000051\n",
    "      </div>\n",
    "   </div>\n",
    "   <div class=\"formContent\">\n",
    "      <div class=\"formGrouping\">\n",
    "         <div class=\"infoHead\">Filing Date</div>\n",
    "         <div class=\"info\">2016-02-12</div>\n",
    "         <div class=\"infoHead\">Accepted</div>\n",
    "         <div class=\"info\">2016-02-11 19:05:37</div>\n",
    "         <div class=\"infoHead\">Documents</div>\n",
    "         <div class=\"info\">1</div>\n",
    "      </div>\n",
    "      <div style=\"clear:both\"></div>\n",
    "   </div>\n",
    "</div>\n",
    "<!-- END FILING DIV -->\n",
    "<!-- START DOCUMENT DIV -->\n",
    "<div id=\"formDiv\">\n",
    "   <div style=\"padding: 0px 0px 4px 0px; font-size: 12px; margin: 0px 2px 0px 5px; width: 100%; overflow:hidden\">\n",
    "      <p>Document Format Files</p>\n",
    "      <table class=\"tableFile\" summary=\"Document Format Files\">\n",
    "         <tr>\n",
    "            <th scope=\"col\" style=\"width: 5%;\"><acronym title=\"Sequence Number\">Seq</acronym></th>\n",
    "            <th scope=\"col\" style=\"width: 40%;\">Description</th>\n",
    "            <th scope=\"col\" style=\"width: 20%;\">Document</th>\n",
    "            <th scope=\"col\" style=\"width: 10%;\">Type</th>\n",
    "            <th scope=\"col\">Size</th>\n",
    "         </tr>\n",
    "         <tr>\n",
    "            <td scope=\"row\">1</td>\n",
    "            <td scope=\"row\">LSV13G123115MEDALLION.TXT</td>\n",
    "            <td scope=\"row\"><a href=\"/Archives/edgar/data/1000209/000105047016000051/lsv13g123115medallion.txt\">lsv13g123115medallion.txt</a></td>\n",
    "            <td scope=\"row\">SC 13G</td>\n",
    "            <td scope=\"row\">8314</td>\n",
    "         </tr>\n",
    "         <tr class=\"blueRow\">\n",
    "            <td scope=\"row\">&nbsp;</td>\n",
    "            <td scope=\"row\">Complete submission text file</td>\n",
    "            <td scope=\"row\"><a href=\"/Archives/edgar/data/1000209/000105047016000051/0001050470-16-000051.txt\">0001050470-16-000051.txt</a></td>\n",
    "            <td scope=\"row\">&nbsp;</td>\n",
    "            <td scope=\"row\">9803</td>\n",
    "         </tr>\n",
    "      </table>\t\n",
    "   </div>\n",
    "</div>\n",
    "<!-- END DOCUMENT DIV -->\n",
    "<!-- START FILER DIV -->\n",
    "<div id=\"filerDiv\">\n",
    "   <div class=\"mailer\">Mailing Address\n",
    "      <span class=\"mailerAddress\">437 MADISON AVENUE</span>\n",
    "      <span class=\"mailerAddress\">38TH FLOOR</span>\n",
    "      <span class=\"mailerAddress\">\n",
    "NEW YORK NY 10022      </span>\n",
    "   </div>\n",
    "   <div class=\"mailer\">Business Address\n",
    "      <span class=\"mailerAddress\">437 MADISON AVE 38 TH FLOOR</span>\n",
    "      <span class=\"mailerAddress\">\n",
    "NEW YORK NY 10022      </span>\n",
    "      <span class=\"mailerAddress\">2123282153</span>\n",
    "   </div>\n",
    "<div class=\"companyInfo\">\n",
    "  <span class=\"companyName\">MEDALLION FINANCIAL CORP (Subject)\n",
    " <acronym title=\"Central Index Key\">CIK</acronym>: <a href=\"/cgi-bin/browse-edgar?CIK=0001000209&amp;action=getcompany\">0001000209 (see all company filings)</a></span>\n",
    "<p class=\"identInfo\"><acronym title=\"Internal Revenue Service Number\">IRS No.</acronym>: <strong>043291176</strong> | State of Incorp.: <strong>DE</strong> | Fiscal Year End: <strong>1231</strong><br />Type: <strong>SC 13G</strong> | Act: <strong>34</strong> | File No.: <a href=\"/cgi-bin/browse-edgar?filenum=005-48473&amp;action=getcompany\"><strong>005-48473</strong></a> | Film No.: <strong>161413579</strong><br /><acronym title=\"Standard Industrial Code\">SIC</acronym>: <b><a href=\"/cgi-bin/browse-edgar?action=getcompany&amp;SIC=6199&amp;owner=include\">6199</a></b> Finance Services<br />Office of Finance</p>\n",
    "</div>\n",
    "<div class=\"clear\"></div>\n",
    "</div>\n",
    "<div id=\"filerDiv\">\n",
    "   <div class=\"mailer\">Mailing Address\n",
    "      <span class=\"mailerAddress\">155 NORTH WACKER DRIVE</span>\n",
    "      <span class=\"mailerAddress\">SUITE 4600</span>\n",
    "      <span class=\"mailerAddress\">\n",
    "CHICAGO IL 60606      </span>\n",
    "   </div>\n",
    "   <div class=\"mailer\">Business Address\n",
    "      <span class=\"mailerAddress\">155 NORTH WACKER DRIVE</span>\n",
    "      <span class=\"mailerAddress\">SUITE 4600</span>\n",
    "      <span class=\"mailerAddress\">\n",
    "CHICAGO IL 60606      </span>\n",
    "      <span class=\"mailerAddress\">312-460-2443</span>\n",
    "   </div>\n",
    "<div class=\"companyInfo\">\n",
    "  <span class=\"companyName\">LSV ASSET MANAGEMENT (Filed by)\n",
    " <acronym title=\"Central Index Key\">CIK</acronym>: <a href=\"/cgi-bin/browse-edgar?CIK=0001050470&amp;action=getcompany\">0001050470 (see all company filings)</a></span>\n",
    "<p class=\"identInfo\"><acronym title=\"Internal Revenue Service Number\">IRS No.</acronym>: <strong>232772200</strong> | State of Incorp.: <strong>DE</strong> | Fiscal Year End: <strong>1231</strong><br />Type: <strong>SC 13G</strong></p>\n",
    "</div>\n",
    "<div class=\"clear\"></div>\n",
    "</div>\n",
    "<!-- END FILER DIV -->\n",
    "</div>\"\"\""
   ]
  },
  {
   "cell_type": "code",
   "execution_count": 10,
   "id": "f28802f3-9ed2-4bd1-8762-e26b698aa8ad",
   "metadata": {},
   "outputs": [
    {
     "name": "stdout",
     "output_type": "stream",
     "text": [
      "2016\n",
      "2016\n"
     ]
    },
    {
     "data": {
      "text/plain": [
       "['2016-02-12', '2016-02-11']"
      ]
     },
     "execution_count": 10,
     "metadata": {},
     "output_type": "execute_result"
    }
   ],
   "source": [
    "dates=re.findall(r\"[12][09]\\d{2}-\\d{2}-[01][0-9]\", html)\n",
    "# dates.append(\"2016-02-10\")\n",
    "\n",
    "for date in dates:\n",
    "    if date[-2:]==\"00\":\n",
    "        dates.remove(date)\n",
    "    print(date[:4])\n",
    "\n",
    "dates"
   ]
  },
  {
   "cell_type": "code",
   "execution_count": 11,
   "id": "98cacab4-83f3-4db0-bb2a-0023ad012f15",
   "metadata": {},
   "outputs": [
    {
     "data": {
      "text/plain": [
       "'6199'"
      ]
     },
     "execution_count": 11,
     "metadata": {},
     "output_type": "execute_result"
    }
   ],
   "source": [
    "sic=re.search(r\"SIC=[0-9]+\", html)\n",
    "sic=re.sub(r\"[^0-9]\", r\"\", sic[0])\n",
    "sic"
   ]
  },
  {
   "cell_type": "code",
   "execution_count": 12,
   "id": "9bb19b85-8837-468d-8e87-3231e2aa1399",
   "metadata": {},
   "outputs": [
    {
     "data": {
      "text/plain": [
       "['437 MADISON AVENUE\\n38TH FLOOR\\nNEW YORK NY 10022',\n",
       " '437 MADISON AVE 38 TH FLOOR\\nNEW YORK NY 10022\\n2123282153',\n",
       " '155 NORTH WACKER DRIVE\\nSUITE 4600\\nCHICAGO IL 60606',\n",
       " '155 NORTH WACKER DRIVE\\nSUITE 4600\\nCHICAGO IL 60606\\n312-460-2443']"
      ]
     },
     "execution_count": 12,
     "metadata": {},
     "output_type": "execute_result"
    }
   ],
   "source": [
    "addys=[]\n",
    "for addr_html in re.findall(r'<div class=\"mailer\">([\\s\\S]+?)</div>', html):\n",
    "    lines = []\n",
    "    for line in re.findall(r'<span class=\"mailerAddress\">([\\s\\S]+?)</span>', addr_html):\n",
    "        lines.append(line.strip())\n",
    "    addys.append(\"\\n\".join(lines))\n",
    "addys"
   ]
  },
  {
   "cell_type": "code",
   "execution_count": 13,
   "id": "a1bb5855-9f5c-4d4b-9fb4-0f0bd7179279",
   "metadata": {},
   "outputs": [
    {
     "data": {
      "text/plain": [
       "['Mailing Address\\n      <span class=\"mailerAddress\">437 MADISON AVENUE</span>\\n      <span class=\"mailerAddress\">38TH FLOOR</span>\\n      <span class=\"mailerAddress\">\\nNEW YORK NY 10022      </span>\\n   ',\n",
       " 'Business Address\\n      <span class=\"mailerAddress\">437 MADISON AVE 38 TH FLOOR</span>\\n      <span class=\"mailerAddress\">\\nNEW YORK NY 10022      </span>\\n      <span class=\"mailerAddress\">2123282153</span>\\n   ',\n",
       " 'Mailing Address\\n      <span class=\"mailerAddress\">155 NORTH WACKER DRIVE</span>\\n      <span class=\"mailerAddress\">SUITE 4600</span>\\n      <span class=\"mailerAddress\">\\nCHICAGO IL 60606      </span>\\n   ',\n",
       " 'Business Address\\n      <span class=\"mailerAddress\">155 NORTH WACKER DRIVE</span>\\n      <span class=\"mailerAddress\">SUITE 4600</span>\\n      <span class=\"mailerAddress\">\\nCHICAGO IL 60606      </span>\\n      <span class=\"mailerAddress\">312-460-2443</span>\\n   ']"
      ]
     },
     "execution_count": 13,
     "metadata": {},
     "output_type": "execute_result"
    }
   ],
   "source": [
    "addr_list=[]\n",
    "for addr_html in re.findall(r'<div class=\"mailer\">([\\s\\S]+?)</div>', html):\n",
    "    addr_list.append(addr_html)\n",
    "    \n",
    "addr_list"
   ]
  },
  {
   "cell_type": "code",
   "execution_count": 14,
   "id": "80214f54-8096-44c5-a7e2-bfe3bbc83551",
   "metadata": {},
   "outputs": [],
   "source": [
    "class Filing:\n",
    "    def __init__(self, html):\n",
    "        dates=re.findall(r\"[1-2][09]\\d{2}-\\d{2}-[01][0-9]\", html)\n",
    "        sic=re.search(r\"SIC=[0-9]+\", html)\n",
    "        sic=re.sub(r\"[^0-9]\", r\"\", sic[0])\n",
    "        for date in dates:\n",
    "            if date[-2:]==\"00\":\n",
    "                dates.remove(date)\n",
    "        addys=[]\n",
    "        for addr_html in re.findall(r'<div class=\"mailer\">([\\s\\S]+?)</div>', html):\n",
    "            lines = []\n",
    "            for line in re.findall(r'<span class=\"mailerAddress\">([\\s\\S]+?)</span>', addr_html):\n",
    "                lines.append(line.strip())\n",
    "            addys.append(\"\\n\".join(lines))\n",
    "        self.dates = dates\n",
    "        self.sic = sic\n",
    "        self.addresses = addys\n",
    "\n",
    "    def state(self):\n",
    "        for addy in self.addresses:\n",
    "            code=re.search(r\"[^A-Z][A-Z]{2} [0-9]{5}\", addy)\n",
    "            if code!=None:\n",
    "                break\n",
    "        if code!=None:\n",
    "            return code[0][:3]\n",
    "        else:\n",
    "            return code\n"
   ]
  },
  {
   "cell_type": "code",
   "execution_count": 15,
   "id": "13fa1f37-42dd-499b-9776-f2769cc05561",
   "metadata": {},
   "outputs": [
    {
     "data": {
      "text/plain": [
       "['437 MADISON AVENUE\\n38TH FLOOR\\nNEW YORK NY 10022',\n",
       " '437 MADISON AVE 38 TH FLOOR\\nNEW YORK NY 10022\\n2123282153',\n",
       " '155 NORTH WACKER DRIVE\\nSUITE 4600\\nCHICAGO IL 60606',\n",
       " '155 NORTH WACKER DRIVE\\nSUITE 4600\\nCHICAGO IL 60606\\n312-460-2443']"
      ]
     },
     "execution_count": 15,
     "metadata": {},
     "output_type": "execute_result"
    }
   ],
   "source": [
    "addys=[]\n",
    "for addr_html in re.findall(r'<div class=\"mailer\">([\\s\\S]+?)</div>', html):\n",
    "    lines = []\n",
    "    for line in re.findall(r'<span class=\"mailerAddress\">([\\s\\S]+?)</span>', addr_html):\n",
    "        lines.append(line.strip())\n",
    "    addys.append(\"\\n\".join(lines))\n",
    "addys\n"
   ]
  },
  {
   "cell_type": "code",
   "execution_count": 16,
   "id": "13b090dd-01a6-4fd1-bb26-b419ae09248c",
   "metadata": {},
   "outputs": [
    {
     "name": "stdout",
     "output_type": "stream",
     "text": [
      " IL\n"
     ]
    }
   ],
   "source": [
    "for addy in addys:\n",
    "    code=re.search(r\"[^A-Z][A-Z]{2} [0-9]{5}\", addy)\n",
    "\n",
    "if code!=None:\n",
    "    print(code[0][:3])\n",
    "if code ==None:\n",
    "    print(code)"
   ]
  },
  {
   "cell_type": "code",
   "execution_count": null,
   "id": "5f7ffeff-c960-4fd8-8bee-f122076f7292",
   "metadata": {},
   "outputs": [],
   "source": []
  },
  {
   "cell_type": "code",
   "execution_count": null,
   "id": "41318d17-76bf-449d-843c-535a4d427e35",
   "metadata": {},
   "outputs": [],
   "source": []
  },
  {
   "cell_type": "code",
   "execution_count": null,
   "id": "7a109010-2516-4865-b3f1-628852ec4117",
   "metadata": {},
   "outputs": [],
   "source": []
  }
 ],
 "metadata": {
  "kernelspec": {
   "display_name": "Python 3 (ipykernel)",
   "language": "python",
   "name": "python3"
  },
  "language_info": {
   "codemirror_mode": {
    "name": "ipython",
    "version": 3
   },
   "file_extension": ".py",
   "mimetype": "text/x-python",
   "name": "python",
   "nbconvert_exporter": "python",
   "pygments_lexer": "ipython3",
   "version": "3.10.6"
  }
 },
 "nbformat": 4,
 "nbformat_minor": 5
}
