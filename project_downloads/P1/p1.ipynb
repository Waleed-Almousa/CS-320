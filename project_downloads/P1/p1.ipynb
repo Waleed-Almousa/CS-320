{
 "cells": [
  {
   "cell_type": "code",
   "execution_count": 1,
   "id": "0ed4a159-e9d7-4969-88f7-bf07fafdc0d5",
   "metadata": {},
   "outputs": [],
   "source": [
    "# project: p1\n",
    "# submitter: walmousa\n",
    "# partner: none\n",
    "# hours: 6.5 "
   ]
  },
  {
   "cell_type": "code",
   "execution_count": 2,
   "id": "10c69550-ea41-4996-9720-70aa78103110",
   "metadata": {},
   "outputs": [],
   "source": [
    "#import statements: \n",
    "import copy\n",
    "import os\n",
    "import pandas as pd\n",
    "import matplotlib\n",
    "import matplotlib.pyplot as plt\n",
    "import subprocess\n",
    "from subprocess import check_output\n",
    "import numpy as np\n",
    "import zipfile\n",
    "from io import TextIOWrapper\n",
    "import time"
   ]
  },
  {
   "cell_type": "code",
   "execution_count": 3,
   "id": "d8f80940-3fcb-4ee2-86a8-990e91e94145",
   "metadata": {},
   "outputs": [
    {
     "data": {
      "text/plain": [
       "float"
      ]
     },
     "execution_count": 3,
     "metadata": {},
     "output_type": "execute_result"
    }
   ],
   "source": [
    "#Q1:\n",
    "type(7/2)"
   ]
  },
  {
   "cell_type": "code",
   "execution_count": 4,
   "id": "0a844e38-9573-4cec-a45a-56889a35e29d",
   "metadata": {},
   "outputs": [
    {
     "data": {
      "text/plain": [
       "True"
      ]
     },
     "execution_count": 4,
     "metadata": {},
     "output_type": "execute_result"
    }
   ],
   "source": [
    "#Q2: \n",
    "x = 4\n",
    "maximum = 10\n",
    "minimum = 5\n",
    "error = (x<=minimum or x>=maximum) # True if x is outside the minimum-to-maximum range\n",
    "error"
   ]
  },
  {
   "cell_type": "code",
   "execution_count": 5,
   "id": "62efeac6-ead2-437f-a4c3-02e67e2f22b9",
   "metadata": {},
   "outputs": [
    {
     "data": {
      "text/plain": [
       "True"
      ]
     },
     "execution_count": 5,
     "metadata": {},
     "output_type": "execute_result"
    }
   ],
   "source": [
    "#Q3: \n",
    "word = \"KAFKAESQUE\"\n",
    "suffix_match = word[-5:].upper() ==\"ESQUE\" # .endswith(...) method not allowed for this question! (practice slicing)\n",
    "suffix_match"
   ]
  },
  {
   "cell_type": "code",
   "execution_count": 6,
   "id": "77652708-0f34-4461-97ff-c0ee155e8201",
   "metadata": {},
   "outputs": [],
   "source": [
    "# add function\n",
    "\n",
    "def add(x=1, y=1):\n",
    "    return x+y"
   ]
  },
  {
   "cell_type": "code",
   "execution_count": 7,
   "id": "624dfd83-50ab-4bc4-af01-41a917e97b03",
   "metadata": {},
   "outputs": [
    {
     "data": {
      "text/plain": [
       "7"
      ]
     },
     "execution_count": 7,
     "metadata": {},
     "output_type": "execute_result"
    }
   ],
   "source": [
    "#Q4: \n",
    "\n",
    "add(3, 4)"
   ]
  },
  {
   "cell_type": "code",
   "execution_count": 8,
   "id": "a4dc21c2-76f5-4acc-acb4-4837d69253d7",
   "metadata": {},
   "outputs": [
    {
     "data": {
      "text/plain": [
       "10"
      ]
     },
     "execution_count": 8,
     "metadata": {},
     "output_type": "execute_result"
    }
   ],
   "source": [
    "#Q5:\n",
    "add(9)"
   ]
  },
  {
   "cell_type": "code",
   "execution_count": 9,
   "id": "7a287d69-505c-4ab8-a05a-509aede37f0e",
   "metadata": {},
   "outputs": [
    {
     "data": {
      "text/plain": [
       "'positive'"
      ]
     },
     "execution_count": 9,
     "metadata": {},
     "output_type": "execute_result"
    }
   ],
   "source": [
    "#Q6: \n",
    "\n",
    "x = 4\n",
    "if x<0:\n",
    "    status = \"negative\"\n",
    "elif x>0:\n",
    "    status = \"positive\"\n",
    "else:\n",
    "    status = \"zero\"\n",
    "status"
   ]
  },
  {
   "cell_type": "code",
   "execution_count": 10,
   "id": "d80eca8e-b37b-4266-8b60-10ee4772fbd7",
   "metadata": {},
   "outputs": [
    {
     "name": "stdout",
     "output_type": "stream",
     "text": [
      "3\n",
      "4\n",
      "1\n",
      "6\n"
     ]
    }
   ],
   "source": [
    "nums = [3, 4, 1, 6]\n",
    "for x in nums:\n",
    "    print(x)"
   ]
  },
  {
   "cell_type": "code",
   "execution_count": 11,
   "id": "a28b8063-d293-4cc0-b9fe-4018ec855f7e",
   "metadata": {
    "tags": []
   },
   "outputs": [],
   "source": [
    "def smart_count(some_list):\n",
    "    total=0\n",
    "    for x in some_list:\n",
    "        if x>10:\n",
    "            continue\n",
    "        if x<0:\n",
    "            break\n",
    "        total+=x\n",
    "    \n",
    "    return total   "
   ]
  },
  {
   "cell_type": "code",
   "execution_count": 12,
   "id": "0c0cee69-ed34-4b41-a7a3-9e98a287c753",
   "metadata": {},
   "outputs": [
    {
     "data": {
      "text/plain": [
       "14"
      ]
     },
     "execution_count": 12,
     "metadata": {},
     "output_type": "execute_result"
    }
   ],
   "source": [
    "#Q7: \n",
    "\n",
    "smart_count(nums)"
   ]
  },
  {
   "cell_type": "code",
   "execution_count": 13,
   "id": "b53f2331-abe3-44d1-b4e4-46acd2ea249a",
   "metadata": {},
   "outputs": [
    {
     "data": {
      "text/plain": [
       "6"
      ]
     },
     "execution_count": 13,
     "metadata": {},
     "output_type": "execute_result"
    }
   ],
   "source": [
    "#Q8: \n",
    "\n",
    "smart_count([2, 1, 11, 3, 15, -1, 8, 2])"
   ]
  },
  {
   "cell_type": "code",
   "execution_count": 14,
   "id": "e2b2cbf5-f6bb-4c67-aa43-7948bad91673",
   "metadata": {},
   "outputs": [],
   "source": [
    "header = [\"A\", \"B\", \"C\"]\n",
    "\n",
    "coord1 = {\"x\": 8, \"y\": 5}\n",
    "coord2 = {\"x\": 9, \"y\": 2}\n",
    "coord3 = {\"x\": 3, \"y\": 1, \"z\": 3.14}\n",
    "\n",
    "rows = [\n",
    "    [1, 6, coord1],\n",
    "    [3, 4, coord2],\n",
    "    [5, 2, coord3],\n",
    "]"
   ]
  },
  {
   "cell_type": "code",
   "execution_count": 15,
   "id": "881ec617-ae9e-4a00-8bcd-96368bf22355",
   "metadata": {},
   "outputs": [
    {
     "data": {
      "text/plain": [
       "[[1, 6, {'x': 8, 'y': 5}],\n",
       " [3, 4, {'x': 9, 'y': 2}],\n",
       " [5, 2, {'x': 3, 'y': 1, 'z': 3.14}]]"
      ]
     },
     "execution_count": 15,
     "metadata": {},
     "output_type": "execute_result"
    }
   ],
   "source": [
    "#Q9: \n",
    "\n",
    "rows"
   ]
  },
  {
   "cell_type": "code",
   "execution_count": 16,
   "id": "9b301452-ec0b-457e-81cb-1f3e7423cfcd",
   "metadata": {},
   "outputs": [
    {
     "data": {
      "text/plain": [
       "8"
      ]
     },
     "execution_count": 16,
     "metadata": {},
     "output_type": "execute_result"
    }
   ],
   "source": [
    "#Q10:\n",
    "\n",
    "rows[0][-1][\"x\"]"
   ]
  },
  {
   "cell_type": "code",
   "execution_count": 17,
   "id": "f5f37df6-f792-4eb1-870a-487bf7c259d7",
   "metadata": {},
   "outputs": [
    {
     "data": {
      "text/plain": [
       "[[1, 6, {'x': 8, 'y': 5}],\n",
       " [3, 9999, {'x': 9, 'y': 2}],\n",
       " [5, 2, {'x': 3, 'y': 1, 'z': 3.14}]]"
      ]
     },
     "execution_count": 17,
     "metadata": {},
     "output_type": "execute_result"
    }
   ],
   "source": [
    "#Q11:\n",
    "\n",
    "v2 = copy.copy(rows)\n",
    "v2[0] = 8888    # first change\n",
    "v2[1][1] = 9999 # second change\n",
    "rows"
   ]
  },
  {
   "cell_type": "code",
   "execution_count": 18,
   "id": "934fbda5-4af5-4d34-a843-8187e89f9ef5",
   "metadata": {},
   "outputs": [
    {
     "data": {
      "text/plain": [
       "10007"
      ]
     },
     "execution_count": 18,
     "metadata": {},
     "output_type": "execute_result"
    }
   ],
   "source": [
    "#Q12: \n",
    "index_b=header.index(\"B\")\n",
    "total=0\n",
    "for row in rows:\n",
    "    total+=row[index_b]\n",
    "total"
   ]
  },
  {
   "cell_type": "code",
   "execution_count": 19,
   "id": "295a9c29-27b6-4388-b9e3-5fec54b3227d",
   "metadata": {},
   "outputs": [
    {
     "data": {
      "text/plain": [
       "[[3, 9999, {'x': 9, 'y': 2}],\n",
       " [1, 6, {'x': 8, 'y': 5}],\n",
       " [5, 2, {'x': 3, 'y': 1, 'z': 3.14}]]"
      ]
     },
     "execution_count": 19,
     "metadata": {},
     "output_type": "execute_result"
    }
   ],
   "source": [
    "#Q13: \n",
    "\n",
    "rows.sort(key=lambda row: row[header.index(\"B\")], reverse=True)\n",
    "rows"
   ]
  },
  {
   "cell_type": "code",
   "execution_count": 20,
   "id": "7d2796ea-5082-43ac-92a4-2dd31a5484a7",
   "metadata": {},
   "outputs": [
    {
     "name": "stdout",
     "output_type": "stream",
     "text": [
      "<class 'dict'>\n"
     ]
    },
    {
     "data": {
      "text/plain": [
       "371.910760725568"
      ]
     },
     "execution_count": 20,
     "metadata": {},
     "output_type": "execute_result"
    }
   ],
   "source": [
    "#Q14: \n",
    "import json\n",
    "\n",
    "f = open(\"usd.json\", encoding = \"UTF-8\")\n",
    "data = json.load(f)\n",
    "f.close()\n",
    "\n",
    "print(type(data))\n",
    "data[\"eur\"][\"rate\"]*400"
   ]
  },
  {
   "cell_type": "code",
   "execution_count": 21,
   "id": "d7e65b06-fa4c-4e54-9120-3c0b9034c61c",
   "metadata": {},
   "outputs": [],
   "source": [
    "\n",
    "def divide(x, y):\n",
    "    try:\n",
    "        z = x/y\n",
    "        return z\n",
    "    except ZeroDivisionError:\n",
    "        return float(\"nan\")"
   ]
  },
  {
   "cell_type": "code",
   "execution_count": 22,
   "id": "7033de18-4860-4f6e-982d-7af506ad498e",
   "metadata": {},
   "outputs": [
    {
     "data": {
      "text/plain": [
       "1.5"
      ]
     },
     "execution_count": 22,
     "metadata": {},
     "output_type": "execute_result"
    }
   ],
   "source": [
    "#Q15: \n",
    "\n",
    "divide(3, 2)"
   ]
  },
  {
   "cell_type": "code",
   "execution_count": 23,
   "id": "b8ae7ac5-8845-42e0-b654-ba8129005965",
   "metadata": {
    "tags": []
   },
   "outputs": [
    {
     "data": {
      "text/plain": [
       "nan"
      ]
     },
     "execution_count": 23,
     "metadata": {},
     "output_type": "execute_result"
    }
   ],
   "source": [
    "#Q16: \n",
    "\n",
    "divide(-3, 0)"
   ]
  },
  {
   "cell_type": "code",
   "execution_count": 24,
   "id": "51db6beb-d847-49fa-9fc4-e755ef97c5bd",
   "metadata": {},
   "outputs": [],
   "source": [
    "\n",
    "os.listdir(\"home-computers\")[0].split(\".\")[0]\n",
    "directories= os.listdir(\"home-computers\")\n",
    "\n",
    "years_og={}\n",
    "for file in directories:\n",
    "    if file[0]== \".\":\n",
    "        continue\n",
    "    years_og[int(file.split(\".\")[0][-4:])]= pd.read_csv(os.path.join(\"home-computers\", file), skiprows=1).set_index(\"Geographic Area Name\")"
   ]
  },
  {
   "cell_type": "code",
   "execution_count": 25,
   "id": "819d12aa-c0cc-4ea7-8bb7-26bdf673df3a",
   "metadata": {},
   "outputs": [
    {
     "data": {
      "text/plain": [
       "[2013, 2014, 2015, 2016, 2017, 2018]"
      ]
     },
     "execution_count": 25,
     "metadata": {},
     "output_type": "execute_result"
    }
   ],
   "source": [
    "#Q17: \n",
    "\n",
    "keys = list(years_og.keys())\n",
    "\n",
    "keys.sort()\n",
    "years= {i: years_og[i] for i in keys}\n",
    "\n",
    "list(years.keys())"
   ]
  },
  {
   "cell_type": "code",
   "execution_count": 26,
   "id": "3242f5c3-6575-4d4c-99d7-2baf8b0ad030",
   "metadata": {},
   "outputs": [
    {
     "data": {
      "text/plain": [
       "2371960"
      ]
     },
     "execution_count": 26,
     "metadata": {},
     "output_type": "execute_result"
    }
   ],
   "source": [
    "#Q18: \n",
    "\n",
    "years[2018].loc[\"Wisconsin\"][\"Estimate!!Total\"]"
   ]
  },
  {
   "cell_type": "code",
   "execution_count": 27,
   "id": "df157b19-c12b-490b-8f30-2bb1bb96c941",
   "metadata": {},
   "outputs": [
    {
     "data": {
      "text/plain": [
       "10285814"
      ]
     },
     "execution_count": 27,
     "metadata": {},
     "output_type": "execute_result"
    }
   ],
   "source": [
    "#Q19: \n",
    "years[2018][\"Estimate!!Total!!No Computer\"].sum()"
   ]
  },
  {
   "cell_type": "code",
   "execution_count": 28,
   "id": "fa0c3b9c-eefe-44d7-aa82-bd89cae1f7ab",
   "metadata": {},
   "outputs": [
    {
     "data": {
      "text/plain": [
       "0.12375641594322287"
      ]
     },
     "execution_count": 28,
     "metadata": {},
     "output_type": "execute_result"
    }
   ],
   "source": [
    "#Q20:\n",
    "\n",
    "new_df= years[2018][\"Margin of Error!!Total!!No Computer\"]/years[2018][\"Estimate!!Total!!No Computer\"]\n",
    "new_df.max()"
   ]
  },
  {
   "cell_type": "code",
   "execution_count": 29,
   "id": "6cce8834-37df-4590-84ec-5faf9ec9289b",
   "metadata": {},
   "outputs": [
    {
     "data": {
      "text/plain": [
       "{'Illinois': 8.524143737625552,\n",
       " 'Indiana': 9.463486214247707,\n",
       " 'Iowa': 9.468929459023103,\n",
       " 'Michigan': 8.936374942955922,\n",
       " 'Minnesota': 7.491847623005652,\n",
       " 'Wisconsin': 9.582497175331794}"
      ]
     },
     "execution_count": 29,
     "metadata": {},
     "output_type": "execute_result"
    }
   ],
   "source": [
    "#Q21:\n",
    "\n",
    "df_21 ={}\n",
    "\n",
    "# for row in years[2018]:\n",
    "states = [\"Illinois\", \"Indiana\", \"Iowa\", \"Michigan\", \"Minnesota\", \"Wisconsin\"]\n",
    "\n",
    "for state in states:\n",
    "    df_21[state]=years[2018].loc[state][\"Estimate!!Total!!No Computer\"]/years[2018].loc[state][\"Estimate!!Total\"] *100\n",
    "\n",
    "df_21"
   ]
  },
  {
   "cell_type": "code",
   "execution_count": 30,
   "id": "0a64c05e-3393-4d70-af14-e0ab38443cb6",
   "metadata": {},
   "outputs": [
    {
     "data": {
      "text/plain": [
       "Text(0.5, 0, 'Geographic Area Name')"
      ]
     },
     "execution_count": 30,
     "metadata": {},
     "output_type": "execute_result"
    },
    {
     "data": {
      "image/png": "[encoded data removed]",
      "text/plain": [
       "<Figure size 640x480 with 1 Axes>"
      ]
     },
     "metadata": {},
     "output_type": "display_data"
    }
   ],
   "source": [
    "#Q22: \n",
    "\n",
    "ax=pd.Series(df_21).plot.bar()\n",
    "ax.set_ylabel('% of Households w/o computers')\n",
    "ax.set_xlabel('Geographic Area Name')"
   ]
  },
  {
   "cell_type": "code",
   "execution_count": 31,
   "id": "7cea2fe3-fe74-46d5-9a3b-db3fb49a7b3a",
   "metadata": {},
   "outputs": [
    {
     "data": {
      "text/plain": [
       "Text(0.5, 0, 'Year')"
      ]
     },
     "execution_count": 31,
     "metadata": {},
     "output_type": "execute_result"
    },
    {
     "data": {
      "image/png": "[encoded data removed]",
      "text/plain": [
       "<Figure size 640x480 with 1 Axes>"
      ]
     },
     "metadata": {},
     "output_type": "display_data"
    }
   ],
   "source": [
    "#Q23: \n",
    "\n",
    "df_23={}\n",
    "for year in years:\n",
    "    df_23[year]=years[year].loc[\"Wisconsin\"][\"Estimate!!Total!!No Computer\"]/1000\n",
    "\n",
    "ax=pd.Series(df_23).plot.line()\n",
    "ax.set_ylabel('WI Households without Computers(thousands)')\n",
    "ax.set_xlabel('Year')"
   ]
  },
  {
   "cell_type": "code",
   "execution_count": 32,
   "id": "c9b742bc-d372-4289-848f-09e33f6a3214",
   "metadata": {},
   "outputs": [
    {
     "data": {
      "text/plain": [
       "Text(0.5, 0, 'Smartphones (millions)')"
      ]
     },
     "execution_count": 32,
     "metadata": {},
     "output_type": "execute_result"
    },
    {
     "data": {
      "image/png": "[encoded data removed]",
      "text/plain": [
       "<Figure size 640x480 with 1 Axes>"
      ]
     },
     "metadata": {},
     "output_type": "display_data"
    }
   ],
   "source": [
    "#Q24:\n",
    "x= years[2018][\"Estimate!!Total!!Has one or more types of computing devices!!Smartphone\"]/1e6\n",
    "y=years[2018][\"Estimate!!Total!!Has one or more types of computing devices!!Tablet or other portable wireless computer\"]/1e6\n",
    "\n",
    "plt.scatter(x, y)\n",
    "plt.ylabel('Tablets(millions)')\n",
    "plt.xlabel('Smartphones (millions)')"
   ]
  },
  {
   "cell_type": "code",
   "execution_count": 33,
   "id": "c7963a27-62f5-4a9b-9d0e-fc66ec7a0840",
   "metadata": {},
   "outputs": [
    {
     "name": "stderr",
     "output_type": "stream",
     "text": [
      "Already on 'main'\n"
     ]
    },
    {
     "data": {
      "text/plain": [
       "'commit 660994efc761efdfd49ca442b73f6712dc77b6cf'"
      ]
     },
     "execution_count": 33,
     "metadata": {},
     "output_type": "execute_result"
    }
   ],
   "source": [
    "#Q25: \n",
    "check_output([\"git\", \"checkout\", \"main\"], cwd=\"flask\")\n",
    "git_log = check_output([\"git\", \"log\"], cwd=\"flask\", encoding = \"utf-8\").split(\"\\n\")\n",
    "\n",
    "git_log[0]"
   ]
  },
  {
   "cell_type": "code",
   "execution_count": 34,
   "id": "6a0329f4-b81e-438c-bd2e-39436701d650",
   "metadata": {},
   "outputs": [
    {
     "data": {
      "text/plain": [
       "['03148dba6b26a2694da1d466584f50189c52e7b3',\n",
       " 'ef524f2cfd65377b3b9ce896e7a710472b13c0f6',\n",
       " 'f2dc38cda61f76c64b97ab9f730accc986a4b188',\n",
       " '03168a5d53457fdb8676a4ac9fca0f76a23c6852',\n",
       " '0b8e01b4450d0ba8cb65751d866568fddc155fa4',\n",
       " '6a3a046f55755f0691568431e68a8bfea8d89df0',\n",
       " 'd78b04a3fca8d8887382606897d4a97e55062fda',\n",
       " '4671429a509094f36e2294055340197091d39979',\n",
       " '4e7aa9e7f7a86ee0ea4b6801694c13151518cb52',\n",
       " '85ca089dde8814c4a42ad4574cddce25d60e5e25',\n",
       " '8171da88a49eba769d313a51591ee8575be59762',\n",
       " 'df929c6c77ea5490a969275e45075c29711a498c',\n",
       " '574e81f9c8bbdc41958e1e7a7613633b091101f8',\n",
       " '1fff3e598126a084348ec2c112fdd3bc6b9a1ee0',\n",
       " '05f36c7f7e2df36ee28f90d99632162579b1287c',\n",
       " '4e1b3e1134eb478563bc434d794085d0a412cb84',\n",
       " '8e9bd5f009bb8756a2a7d76a4b792323eeee49d6',\n",
       " '9dfab582d065521e9350327801ed2c5ced1c8fa1',\n",
       " '3d719f35f5c1ee4ce3dc01fb2167ef49c0180cf6',\n",
       " '7d6b8e9ab3e738d69e39ad53a7c0f6a552d5284a',\n",
       " 'a9d4ea81da28ee9c894bf9d45adc4cfa9d52fddc',\n",
       " '727c701686c18c4a27ca523eb0c5862d497be24e',\n",
       " '4edec48b74dbb9d571e927b69b24c30ec0624975',\n",
       " '625eba4bb403296a8bbc1e72cc9cf4a5126f6c02',\n",
       " '4aa76212d1be9b17a57249549c2a73fb10b6cda8',\n",
       " '3b36bef2e6165bb4dad73d17f23ee1879e99f497',\n",
       " '44b42e0fbd93d86e0f4e929bda8e5fb63e81035d',\n",
       " '4ec7d2a0d8eac4f915dc0d38a886cd57045bb0c4',\n",
       " 'b15ad394279fc3b7f998fa56857f334a7c0156f6',\n",
       " '33850c0ebd23ae615e6823993d441f46d80b1ff0']"
      ]
     },
     "execution_count": 34,
     "metadata": {},
     "output_type": "execute_result"
    }
   ],
   "source": [
    "#Q26 \n",
    "git_commits=[]\n",
    "for line in git_log:\n",
    "    if line[:6]==\"commit\":\n",
    "        git_commits.append(line[7:])\n",
    "\n",
    "git_commits[-30:]"
   ]
  },
  {
   "cell_type": "code",
   "execution_count": 35,
   "id": "e925525a-2daf-4b3d-bdf6-31fdca0bf920",
   "metadata": {},
   "outputs": [
    {
     "name": "stderr",
     "output_type": "stream",
     "text": [
      "Already on 'main'\n",
      "Note: switching to 'b15ad394279fc3b7f998fa56857f334a7c0156f6'.\n",
      "\n",
      "You are in 'detached HEAD' state. You can look around, make experimental\n",
      "changes and commit them, and you can discard any commits you make in this\n",
      "state without impacting any branches by switching back to a branch.\n",
      "\n",
      "If you want to create a new branch to retain commits you create, you may\n",
      "do so (now or later) by using -c with the switch command. Example:\n",
      "\n",
      "  git switch -c <new-branch-name>\n",
      "\n",
      "Or undo this operation with:\n",
      "\n",
      "  git switch -\n",
      "\n",
      "Turn off this advice by setting config variable advice.detachedHead to false\n",
      "\n",
      "HEAD is now at b15ad394 Added setup.py and README\n"
     ]
    },
    {
     "data": {
      "text/plain": [
       "\"\\n                        // Flask //\\n\\n     because a pocket knife is not the only thing that\\n                    might come in handy\\n\\n\\n    ~ What is Flask?\\n\\n      Flask is a microframework for Python based on Werkzeug\\n      and Jinja2.  It's intended for small scale applications\\n      and was development with best intentions in mind.\\n\\n   ~ Is it ready?\\n\\n      Nope, this is still work in progress, but I am happy to\\n      accept patches and improvements already.\\n\""
      ]
     },
     "execution_count": 35,
     "metadata": {},
     "output_type": "execute_result"
    }
   ],
   "source": [
    "#Q27:\n",
    "\n",
    "check_output([\"git\", \"checkout\", \"main\"], cwd=\"flask\")\n",
    "\n",
    "check_output([\"git\", \"checkout\", \"b15ad394279fc3b7f998fa56857f334a7c0156f6\"], cwd=\"flask\")\n",
    "\n",
    "f=open(\"flask/README\", encoding=\"utf-8\")\n",
    "content=f.read()\n",
    "f.close()\n",
    "\n",
    "content"
   ]
  },
  {
   "cell_type": "code",
   "execution_count": 36,
   "id": "be4d710c-734e-409a-a4bd-d78177bd7d70",
   "metadata": {},
   "outputs": [
    {
     "name": "stderr",
     "output_type": "stream",
     "text": [
      "Previous HEAD position was b15ad394 Added setup.py and README\n",
      "Switched to branch 'main'\n"
     ]
    },
    {
     "data": {
      "text/plain": [
       "{'pallets': 204,\n",
       " 'pgjones': 14,\n",
       " 'greyli': 42,\n",
       " 'ThiefMaster': 11,\n",
       " 'jeffwidman': 8,\n",
       " 'garenchan': 8,\n",
       " 'davidism': 45,\n",
       " 'dawran6': 7,\n",
       " 'untitaker': 20,\n",
       " 'lord63-forks': 5,\n",
       " 'methane': 5,\n",
       " 'Winnetou': 6,\n",
       " 'defuz': 6,\n",
       " 'ThomasWaldmann': 13,\n",
       " 'SimonSapin': 11}"
      ]
     },
     "execution_count": 36,
     "metadata": {},
     "output_type": "execute_result"
    }
   ],
   "source": [
    "#Q28:\n",
    "\n",
    "check_output([\"git\", \"checkout\", \"main\"], cwd=\"flask\")\n",
    "commit_dict={}\n",
    "author_names=[]\n",
    "for line in git_log:\n",
    "    if line[:14]==\"    Merge pull\":\n",
    "        email=line.split(\" \")[-1]\n",
    "        name=email.split(\"/\")[0]\n",
    "        if name not in author_names:\n",
    "            author_names.append(name)\n",
    "            commit_dict[name]=1\n",
    "        else:\n",
    "            commit_dict[name]+=1\n",
    "\n",
    "final_dict={}\n",
    "\n",
    "for name in commit_dict:\n",
    "    if commit_dict[name]>=5:\n",
    "        final_dict[name]=commit_dict[name]\n",
    "final_dict"
   ]
  },
  {
   "cell_type": "code",
   "execution_count": 37,
   "id": "9e2b2e33-3a0c-4545-b8d9-0addaca44cc8",
   "metadata": {},
   "outputs": [
    {
     "name": "stderr",
     "output_type": "stream",
     "text": [
      "Already on 'main'\n"
     ]
    },
    {
     "data": {
      "text/plain": [
       "'ERROR: unknown command \"instal\" - maybe you meant \"install\"\\n'"
      ]
     },
     "execution_count": 37,
     "metadata": {},
     "output_type": "execute_result"
    }
   ],
   "source": [
    "#Q29:\n",
    "\n",
    "check_output([\"git\", \"checkout\", \"main\"], cwd=\"flask\")\n",
    "\n",
    "try:\n",
    "    msg = check_output([\"pip3\", \"instal\"], stderr=subprocess.STDOUT, encoding=\"utf-8\")\n",
    "except subprocess.CalledProcessError as e:\n",
    "    msg = e.output\n",
    "\n",
    "msg"
   ]
  },
  {
   "cell_type": "code",
   "execution_count": 38,
   "id": "e005f7b3-446a-406c-a2d5-a7f5c13ed5df",
   "metadata": {},
   "outputs": [
    {
     "data": {
      "text/plain": [
       "Text(0.5, 0, 'Rows')"
      ]
     },
     "execution_count": 38,
     "metadata": {},
     "output_type": "execute_result"
    },
    {
     "data": {
      "image/png": "[encoded data removed]",
      "text/plain": [
       "<Figure size 640x480 with 1 Axes>"
      ]
     },
     "metadata": {},
     "output_type": "display_data"
    }
   ],
   "source": [
    "#Q30:\n",
    "def rand_df(rows):\n",
    "    return pd.DataFrame(np.random.randint(10, size=(rows, 4)),\n",
    "                        columns=[\"A\", \"B\", \"C\", \"D\"],\n",
    "                        index=[f\"r{i}\" for i in range(1, rows+1)])\n",
    "\n",
    "def comp_time(df):\n",
    "    t0=time.time()\n",
    "    for row in df.iterrows():\n",
    "        pass\n",
    "    t1=time.time()\n",
    "    return (t1-t0)*1e3\n",
    "\n",
    "def comp_time_tuple(df):\n",
    "    t0=time.time()\n",
    "    for row in df.itertuples():\n",
    "        pass\n",
    "    t1=time.time()\n",
    "    return (t1-t0)*1e3\n",
    "\n",
    "times_df = pd.DataFrame(dtype=float)\n",
    "times_df.at[1000, \"Iterrows\"] = comp_time(rand_df(1000))\n",
    "times_df.at[2000, \"Iterrows\"] = comp_time(rand_df(2000))\n",
    "times_df.at[3000, \"Iterrows\"] = comp_time(rand_df(3000))\n",
    "times_df.at[5000, \"Iterrows\"] = comp_time(rand_df(5000))\n",
    "times_df.at[1000, \"Itertuples\"] = comp_time_tuple(rand_df(1000))\n",
    "times_df.at[2000, \"Itertuples\"] = comp_time_tuple(rand_df(2000))\n",
    "times_df.at[3000, \"Itertuples\"] = comp_time_tuple(rand_df(3000))\n",
    "times_df.at[5000, \"Itertuples\"] = comp_time_tuple(rand_df(5000))\n",
    "\n",
    "\n",
    "ax=times_df.plot.line()\n",
    "ax.set_ylabel('Time(Milliseconds)')\n",
    "ax.set_xlabel('Rows')\n"
   ]
  },
  {
   "cell_type": "code",
   "execution_count": 39,
   "id": "76590fe4-f803-4fc1-81aa-a4cf822720fa",
   "metadata": {},
   "outputs": [
    {
     "data": {
      "text/plain": [
       "Text(0.5, 0, 'Rows')"
      ]
     },
     "execution_count": 39,
     "metadata": {},
     "output_type": "execute_result"
    },
    {
     "data": {
      "image/png": "[encoded data removed]",
      "text/plain": [
       "<Figure size 640x480 with 1 Axes>"
      ]
     },
     "metadata": {},
     "output_type": "display_data"
    }
   ],
   "source": [
    "#Q31: \n",
    "def time_loc(df):\n",
    "    total = 0\n",
    "    t0=time.time()\n",
    "    for idx in df.index:\n",
    "        for col in df.columns:\n",
    "            total += df.loc[idx, col]\n",
    "    t1=time.time()\n",
    "    return (t1-t0)*1e3\n",
    "\n",
    "def time_at(df):\n",
    "    total = 0\n",
    "    t0=time.time()\n",
    "    for idx in df.index:\n",
    "        for col in df.columns:\n",
    "            total += df.at[idx, col]\n",
    "    t1=time.time()\n",
    "    return (t1-t0)*1e3\n",
    "\n",
    "times_df = pd.DataFrame(dtype=float)\n",
    "times_df.at[1000, \"at\"] = time_loc(rand_df(1000))\n",
    "times_df.at[2000, \"at\"] = time_loc(rand_df(2000))\n",
    "times_df.at[3000, \"at\"] = time_loc(rand_df(3000))\n",
    "times_df.at[5000, \"at\"] = time_loc(rand_df(5000))\n",
    "times_df.at[1000, \"loc\"] = time_at(rand_df(1000))\n",
    "times_df.at[2000, \"loc\"] = time_at(rand_df(2000))\n",
    "times_df.at[3000, \"loc\"] = time_at(rand_df(3000))\n",
    "times_df.at[5000, \"loc\"] = time_at(rand_df(5000))\n",
    "ax=times_df.plot.line()\n",
    "\n",
    "ax.set_ylabel('Time(Milliseconds)')\n",
    "ax.set_xlabel('Rows')\n"
   ]
  },
  {
   "cell_type": "code",
   "execution_count": 40,
   "id": "3413d928-6e1b-47d1-801b-717a7874277e",
   "metadata": {},
   "outputs": [
    {
     "data": {
      "text/plain": [
       "Text(0.5, 0, 'Rows')"
      ]
     },
     "execution_count": 40,
     "metadata": {},
     "output_type": "execute_result"
    },
    {
     "data": {
      "image/png": "[encoded data removed]",
      "text/plain": [
       "<Figure size 640x480 with 1 Axes>"
      ]
     },
     "metadata": {},
     "output_type": "display_data"
    }
   ],
   "source": [
    "#Q32:\n",
    "\n",
    "def laugh(x):\n",
    "    return \"ha\" * x\n",
    "\n",
    "def apply_time(df):\n",
    "    t0=time.time()\n",
    "    result = df[\"A\"].apply(laugh).tolist()\n",
    "    t1=time.time()\n",
    "    return (t1-t0)*1e3\n",
    "\n",
    "def loop_time(df):\n",
    "    result = []\n",
    "    t0=time.time()\n",
    "    for val in df[\"A\"]:\n",
    "        result.append(laugh(val))\n",
    "    t1=time.time()\n",
    "    return (t1-t0)*1e3\n",
    "\n",
    "\n",
    "times_df = pd.DataFrame(dtype=float)\n",
    "times_df.at[5000, \"at\"] = apply_time(rand_df(5000))\n",
    "times_df.at[10000, \"at\"] = apply_time(rand_df(10000))\n",
    "times_df.at[15000, \"at\"] = apply_time(rand_df(15000))\n",
    "times_df.at[20000, \"at\"] = apply_time(rand_df(20000))\n",
    "times_df.at[5000, \"loc\"] = loop_time(rand_df(5000))\n",
    "times_df.at[10000, \"loc\"] = loop_time(rand_df(10000))\n",
    "times_df.at[15000, \"loc\"] = loop_time(rand_df(15000))\n",
    "times_df.at[20000, \"loc\"] = loop_time(rand_df(20000))\n",
    "ax=times_df.plot.line()\n",
    "\n",
    "ax.set_ylabel('Time(Milliseconds)')\n",
    "ax.set_xlabel('Rows')\n"
   ]
  },
  {
   "cell_type": "code",
   "execution_count": null,
   "id": "e2ee52b4-6f62-49b7-8276-4d473dcf6e3c",
   "metadata": {},
   "outputs": [],
   "source": []
  }
 ],
 "metadata": {
  "kernelspec": {
   "display_name": "Python 3 (ipykernel)",
   "language": "python",
   "name": "python3"
  },
  "language_info": {
   "codemirror_mode": {
    "name": "ipython",
    "version": 3
   },
   "file_extension": ".py",
   "mimetype": "text/x-python",
   "name": "python",
   "nbconvert_exporter": "python",
   "pygments_lexer": "ipython3",
   "version": "3.11.4"
  }
 },
 "nbformat": 4,
 "nbformat_minor": 5
}
